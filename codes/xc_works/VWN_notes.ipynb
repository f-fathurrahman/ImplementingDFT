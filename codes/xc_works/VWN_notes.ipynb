{
 "cells": [
  {
   "cell_type": "code",
   "execution_count": 1,
   "metadata": {},
   "outputs": [],
   "source": [
    "from sympy import *"
   ]
  },
  {
   "cell_type": "code",
   "execution_count": 2,
   "metadata": {},
   "outputs": [],
   "source": [
    "ρ = symbols(\"rho\", real=True) # in case we need an expression explicitly in ρ"
   ]
  },
  {
   "cell_type": "code",
   "execution_count": 4,
   "metadata": {},
   "outputs": [],
   "source": [
    "r_s = symbols(\"r_s\", real=True, positive=True)"
   ]
  },
  {
   "cell_type": "markdown",
   "metadata": {},
   "source": [
    "# Slater exchange"
   ]
  },
  {
   "cell_type": "code",
   "execution_count": 14,
   "metadata": {},
   "outputs": [],
   "source": [
    "third = Rational(1,3)\n",
    "pi34 = (3/(4*pi))**Rational(1,3)\n",
    "rs = pi34/ρ**third\n",
    "f = -Rational(9,8) * ( 3/(2*pi) )**Rational(2,3)\n",
    "alpha = Rational(2,3)\n",
    "ex = f * alpha / rs"
   ]
  },
  {
   "cell_type": "code",
   "execution_count": 15,
   "metadata": {},
   "outputs": [
    {
     "data": {
      "text/latex": [
       "$\\displaystyle - \\frac{3 \\sqrt[3]{3} \\sqrt[3]{\\rho}}{4 \\sqrt[3]{\\pi}}$"
      ],
      "text/plain": [
       "-3*3**(1/3)*rho**(1/3)/(4*pi**(1/3))"
      ]
     },
     "execution_count": 15,
     "metadata": {},
     "output_type": "execute_result"
    }
   ],
   "source": [
    "ex"
   ]
  },
  {
   "cell_type": "code",
   "execution_count": 17,
   "metadata": {},
   "outputs": [
    {
     "data": {
      "text/latex": [
       "$\\displaystyle - \\frac{3 \\sqrt[3]{3} \\rho^{\\frac{4}{3}}}{4 \\sqrt[3]{\\pi}}$"
      ],
      "text/plain": [
       "-3*3**(1/3)*rho**(4/3)/(4*pi**(1/3))"
      ]
     },
     "execution_count": 17,
     "metadata": {},
     "output_type": "execute_result"
    }
   ],
   "source": [
    "simplify( ex*ρ )"
   ]
  },
  {
   "cell_type": "markdown",
   "metadata": {},
   "source": [
    "# VWN Correlation"
   ]
  },
  {
   "cell_type": "code",
   "execution_count": 3,
   "metadata": {},
   "outputs": [],
   "source": [
    "A = symbols(\"A\", real=True)\n",
    "x_0 = symbols(\"x_0\", real=True)\n",
    "b = symbols(\"b\", real=True)\n",
    "c = symbols(\"c\", real=True)\n",
    "x = symbols(\"x\", real=True, positive=True)\n",
    "Q = symbols(\"Q\", real=True)"
   ]
  },
  {
   "cell_type": "code",
   "execution_count": 4,
   "metadata": {},
   "outputs": [],
   "source": [
    "# The function X\n",
    "def X(x):\n",
    "    return x**2 + b*x + c"
   ]
  },
  {
   "cell_type": "code",
   "execution_count": 5,
   "metadata": {},
   "outputs": [
    {
     "data": {
      "text/latex": [
       "$\\displaystyle A \\left(- \\frac{b x_{0} \\left(\\log{\\left(\\frac{\\left(x - x_{0}\\right)^{2}}{b x + c + x^{2}} \\right)} + \\frac{\\left(2 b + 4 x_{0}\\right) \\operatorname{atan}{\\left(\\frac{Q}{b + 2 x} \\right)}}{Q}\\right)}{b x_{0} + c + x_{0}^{2}} + \\log{\\left(\\frac{x^{2}}{b x + c + x^{2}} \\right)} + \\frac{2 b \\operatorname{atan}{\\left(\\frac{Q}{b + 2 x} \\right)}}{Q}\\right)$"
      ],
      "text/plain": [
       "A*(-b*x_0*(log((x - x_0)**2/(b*x + c + x**2)) + (2*b + 4*x_0)*atan(Q/(b + 2*x))/Q)/(b*x_0 + c + x_0**2) + log(x**2/(b*x + c + x**2)) + 2*b*atan(Q/(b + 2*x))/Q)"
      ]
     },
     "execution_count": 5,
     "metadata": {},
     "output_type": "execute_result"
    }
   ],
   "source": [
    "eps_c = A*( log(x*x/X(x)) + 2*b/Q*atan(Q/(2*x + b)) - b*x_0/X(x_0)*(\n",
    "    log( (x-x_0)**2/X(x) ) + 2*(b + 2*x_0)/Q*atan(Q/(2*x + b))\n",
    "    )\n",
    ")\n",
    "eps_c"
   ]
  },
  {
   "cell_type": "code",
   "execution_count": 16,
   "metadata": {},
   "outputs": [],
   "source": [
    "dict_subs_Q = {\n",
    "    Q: sqrt(4*c - b**2)\n",
    "}"
   ]
  },
  {
   "cell_type": "code",
   "execution_count": 18,
   "metadata": {},
   "outputs": [
    {
     "data": {
      "text/latex": [
       "$\\displaystyle A \\left(- \\frac{b x_{0} \\left(\\frac{\\left(2 b + 4 x_{0}\\right) \\operatorname{atan}{\\left(\\frac{\\sqrt{- b^{2} + 4 c}}{b + 2 x} \\right)}}{\\sqrt{- b^{2} + 4 c}} + \\log{\\left(\\frac{\\left(x - x_{0}\\right)^{2}}{b x + c + x^{2}} \\right)}\\right)}{b x_{0} + c + x_{0}^{2}} + \\frac{2 b \\operatorname{atan}{\\left(\\frac{\\sqrt{- b^{2} + 4 c}}{b + 2 x} \\right)}}{\\sqrt{- b^{2} + 4 c}} + \\log{\\left(\\frac{x^{2}}{b x + c + x^{2}} \\right)}\\right)$"
      ],
      "text/plain": [
       "A*(-b*x_0*((2*b + 4*x_0)*atan(sqrt(-b**2 + 4*c)/(b + 2*x))/sqrt(-b**2 + 4*c) + log((x - x_0)**2/(b*x + c + x**2)))/(b*x_0 + c + x_0**2) + 2*b*atan(sqrt(-b**2 + 4*c)/(b + 2*x))/sqrt(-b**2 + 4*c) + log(x**2/(b*x + c + x**2)))"
      ]
     },
     "execution_count": 18,
     "metadata": {},
     "output_type": "execute_result"
    }
   ],
   "source": [
    "eps_c.subs(dict_subs_Q)"
   ]
  },
  {
   "cell_type": "code",
   "execution_count": 15,
   "metadata": {},
   "outputs": [],
   "source": [
    "dict_subs_num = {\n",
    "    A: 0.0310907,\n",
    "    x_0: -0.10498,\n",
    "    b: 3.72744,\n",
    "    c: 12.9352,\n",
    "}"
   ]
  },
  {
   "cell_type": "code",
   "execution_count": 19,
   "metadata": {},
   "outputs": [
    {
     "data": {
      "text/latex": [
       "$\\displaystyle 0.0310907 \\log{\\left(\\frac{x^{2}}{x^{2} + 3.72744 x + 12.9352} \\right)} + 0.000969022771154437 \\log{\\left(\\frac{\\left(x + 0.10498\\right)^{2}}{x^{2} + 3.72744 x + 12.9352} \\right)} + 0.038783294878113 \\operatorname{atan}{\\left(\\frac{6.15199081975908}{2 x + 3.72744} \\right)}$"
      ],
      "text/plain": [
       "0.0310907*log(x**2/(x**2 + 3.72744*x + 12.9352)) + 0.000969022771154437*log((x + 0.10498)**2/(x**2 + 3.72744*x + 12.9352)) + 0.038783294878113*atan(6.15199081975908/(2*x + 3.72744))"
      ]
     },
     "execution_count": 19,
     "metadata": {},
     "output_type": "execute_result"
    }
   ],
   "source": [
    "eps_c.subs(dict_subs_Q).subs(dict_subs_num)"
   ]
  },
  {
   "cell_type": "markdown",
   "metadata": {},
   "source": [
    "$$\n",
    "x = r_{s}^{1/2}\n",
    "$$\n",
    "\n",
    "$$\n",
    "\\mathrm{d}x = \\frac{1}{2}  r_{s}^{-1/2} \\mathrm{d}r_{s}\n",
    "$$"
   ]
  },
  {
   "cell_type": "code",
   "execution_count": 21,
   "metadata": {},
   "outputs": [],
   "source": [
    "dict_subs_rs = {\n",
    "    x: sqrt(r_s)\n",
    "}"
   ]
  },
  {
   "cell_type": "code",
   "execution_count": 22,
   "metadata": {},
   "outputs": [],
   "source": [
    "dict_subs_rho = {\n",
    "    r_s: (4*pi*ρ/3)**Rational(-1,3)\n",
    "}"
   ]
  },
  {
   "cell_type": "code",
   "execution_count": 24,
   "metadata": {},
   "outputs": [
    {
     "data": {
      "text/latex": [
       "$\\displaystyle A \\left(- \\frac{b x_{0} \\left(\\frac{\\left(2 b + 4 x_{0}\\right) \\operatorname{atan}{\\left(\\frac{\\sqrt{- b^{2} + 4 c}}{b + 2 \\sqrt{r_{s}}} \\right)}}{\\sqrt{- b^{2} + 4 c}} + \\log{\\left(\\frac{\\left(\\sqrt{r_{s}} - x_{0}\\right)^{2}}{b \\sqrt{r_{s}} + c + r_{s}} \\right)}\\right)}{b x_{0} + c + x_{0}^{2}} + \\frac{2 b \\operatorname{atan}{\\left(\\frac{\\sqrt{- b^{2} + 4 c}}{b + 2 \\sqrt{r_{s}}} \\right)}}{\\sqrt{- b^{2} + 4 c}} + \\log{\\left(\\frac{r_{s}}{b \\sqrt{r_{s}} + c + r_{s}} \\right)}\\right)$"
      ],
      "text/plain": [
       "A*(-b*x_0*((2*b + 4*x_0)*atan(sqrt(-b**2 + 4*c)/(b + 2*sqrt(r_s)))/sqrt(-b**2 + 4*c) + log((sqrt(r_s) - x_0)**2/(b*sqrt(r_s) + c + r_s)))/(b*x_0 + c + x_0**2) + 2*b*atan(sqrt(-b**2 + 4*c)/(b + 2*sqrt(r_s)))/sqrt(-b**2 + 4*c) + log(r_s/(b*sqrt(r_s) + c + r_s)))"
      ]
     },
     "execution_count": 24,
     "metadata": {},
     "output_type": "execute_result"
    }
   ],
   "source": [
    "eps_c.subs(dict_subs_Q).subs(dict_subs_rs)"
   ]
  },
  {
   "cell_type": "code",
   "execution_count": 25,
   "metadata": {},
   "outputs": [
    {
     "data": {
      "text/latex": [
       "$\\displaystyle A \\left(- \\frac{b x_{0} \\left(\\frac{\\left(2 b + 4 x_{0}\\right) \\operatorname{atan}{\\left(\\frac{\\sqrt{- b^{2} + 4 c}}{b + \\frac{2^{\\frac{2}{3}} \\sqrt[6]{3}}{\\sqrt[6]{\\pi} \\sqrt[6]{\\rho}}} \\right)}}{\\sqrt{- b^{2} + 4 c}} + \\log{\\left(\\frac{\\left(- x_{0} + \\frac{2^{\\frac{2}{3}} \\sqrt[6]{3}}{2 \\sqrt[6]{\\pi} \\sqrt[6]{\\rho}}\\right)^{2}}{\\frac{2^{\\frac{2}{3}} \\sqrt[6]{3} b}{2 \\sqrt[6]{\\pi} \\sqrt[6]{\\rho}} + c + \\frac{\\sqrt[3]{6}}{2 \\sqrt[3]{\\pi} \\sqrt[3]{\\rho}}} \\right)}\\right)}{b x_{0} + c + x_{0}^{2}} + \\frac{2 b \\operatorname{atan}{\\left(\\frac{\\sqrt{- b^{2} + 4 c}}{b + \\frac{2^{\\frac{2}{3}} \\sqrt[6]{3}}{\\sqrt[6]{\\pi} \\sqrt[6]{\\rho}}} \\right)}}{\\sqrt{- b^{2} + 4 c}} + \\log{\\left(\\frac{\\sqrt[3]{6}}{2 \\sqrt[3]{\\pi} \\sqrt[3]{\\rho} \\left(\\frac{2^{\\frac{2}{3}} \\sqrt[6]{3} b}{2 \\sqrt[6]{\\pi} \\sqrt[6]{\\rho}} + c + \\frac{\\sqrt[3]{6}}{2 \\sqrt[3]{\\pi} \\sqrt[3]{\\rho}}\\right)} \\right)}\\right)$"
      ],
      "text/plain": [
       "A*(-b*x_0*((2*b + 4*x_0)*atan(sqrt(-b**2 + 4*c)/(b + 2**(2/3)*3**(1/6)/(pi**(1/6)*rho**(1/6))))/sqrt(-b**2 + 4*c) + log((-x_0 + 2**(2/3)*3**(1/6)/(2*pi**(1/6)*rho**(1/6)))**2/(2**(2/3)*3**(1/6)*b/(2*pi**(1/6)*rho**(1/6)) + c + 6**(1/3)/(2*pi**(1/3)*rho**(1/3)))))/(b*x_0 + c + x_0**2) + 2*b*atan(sqrt(-b**2 + 4*c)/(b + 2**(2/3)*3**(1/6)/(pi**(1/6)*rho**(1/6))))/sqrt(-b**2 + 4*c) + log(6**(1/3)/(2*pi**(1/3)*rho**(1/3)*(2**(2/3)*3**(1/6)*b/(2*pi**(1/6)*rho**(1/6)) + c + 6**(1/3)/(2*pi**(1/3)*rho**(1/3))))))"
      ]
     },
     "execution_count": 25,
     "metadata": {},
     "output_type": "execute_result"
    }
   ],
   "source": [
    "eps_c.subs(dict_subs_Q).subs(dict_subs_rs).subs(dict_subs_rho)"
   ]
  },
  {
   "cell_type": "code",
   "execution_count": 27,
   "metadata": {},
   "outputs": [
    {
     "data": {
      "text/latex": [
       "$\\displaystyle 0.000969022771154437 \\log{\\left(\\frac{\\left(0.10498 + \\frac{2^{\\frac{2}{3}} \\sqrt[6]{3}}{2 \\sqrt[6]{\\pi} \\sqrt[6]{\\rho}}\\right)^{2}}{12.9352 + \\frac{\\sqrt[3]{6}}{2 \\sqrt[3]{\\pi} \\sqrt[3]{\\rho}} + \\frac{1.86372 \\cdot 2^{\\frac{2}{3}} \\sqrt[6]{3}}{\\sqrt[6]{\\pi} \\sqrt[6]{\\rho}}} \\right)} + 0.0310907 \\log{\\left(\\frac{\\sqrt[3]{6}}{2 \\sqrt[3]{\\pi} \\sqrt[3]{\\rho} \\left(12.9352 + \\frac{\\sqrt[3]{6}}{2 \\sqrt[3]{\\pi} \\sqrt[3]{\\rho}} + \\frac{1.86372 \\cdot 2^{\\frac{2}{3}} \\sqrt[6]{3}}{\\sqrt[6]{\\pi} \\sqrt[6]{\\rho}}\\right)} \\right)} + 0.038783294878113 \\operatorname{atan}{\\left(\\frac{6.15199081975908}{3.72744 + \\frac{2^{\\frac{2}{3}} \\sqrt[6]{3}}{\\sqrt[6]{\\pi} \\sqrt[6]{\\rho}}} \\right)}$"
      ],
      "text/plain": [
       "0.000969022771154437*log((0.10498 + 2**(2/3)*3**(1/6)/(2*pi**(1/6)*rho**(1/6)))**2/(12.9352 + 6**(1/3)/(2*pi**(1/3)*rho**(1/3)) + 1.86372*2**(2/3)*3**(1/6)/(pi**(1/6)*rho**(1/6)))) + 0.0310907*log(6**(1/3)/(2*pi**(1/3)*rho**(1/3)*(12.9352 + 6**(1/3)/(2*pi**(1/3)*rho**(1/3)) + 1.86372*2**(2/3)*3**(1/6)/(pi**(1/6)*rho**(1/6))))) + 0.038783294878113*atan(6.15199081975908/(3.72744 + 2**(2/3)*3**(1/6)/(pi**(1/6)*rho**(1/6))))"
      ]
     },
     "execution_count": 27,
     "metadata": {},
     "output_type": "execute_result"
    }
   ],
   "source": [
    "expr1 = eps_c.subs(dict_subs_Q).subs(dict_subs_rs).subs(dict_subs_rho).subs(dict_subs_num)\n",
    "expr1"
   ]
  },
  {
   "cell_type": "code",
   "execution_count": 29,
   "metadata": {},
   "outputs": [
    {
     "data": {
      "text/latex": [
       "$\\displaystyle 0.0310907 \\log{\\left(\\frac{\\sqrt[6]{\\rho}}{\\sqrt[3]{6} \\sqrt[6]{\\pi} \\sqrt[6]{\\rho} + 3.72744 \\cdot 2^{\\frac{2}{3}} \\sqrt[6]{3} \\sqrt[3]{\\pi} \\sqrt[3]{\\rho} + 25.8704 \\sqrt{\\pi} \\sqrt{\\rho}} \\right)} + 0.000969022771154437 \\log{\\left(\\frac{\\sqrt[6]{\\rho} \\left(0.20996 \\sqrt[6]{\\pi} \\sqrt[6]{\\rho} + 2^{\\frac{2}{3}} \\sqrt[6]{3}\\right)^{2}}{2 \\sqrt[3]{6} \\sqrt[6]{\\pi} \\sqrt[6]{\\rho} + 7.45488 \\cdot 2^{\\frac{2}{3}} \\sqrt[6]{3} \\sqrt[3]{\\pi} \\sqrt[3]{\\rho} + 51.7408 \\sqrt{\\pi} \\sqrt{\\rho}} \\right)} + 0.038783294878113 \\operatorname{atan}{\\left(\\frac{6.15199081975908 \\sqrt[6]{\\pi} \\sqrt[6]{\\rho}}{3.72744 \\sqrt[6]{\\pi} \\sqrt[6]{\\rho} + 2^{\\frac{2}{3}} \\sqrt[6]{3}} \\right)} + 0.00534328712852574 \\log{\\left(\\pi \\right)} + 0.0103635666666667 \\log{\\left(6 \\right)}$"
      ],
      "text/plain": [
       "0.0310907*log(rho**(1/6)/(6**(1/3)*pi**(1/6)*rho**(1/6) + 3.72744*2**(2/3)*3**(1/6)*pi**(1/3)*rho**(1/3) + 25.8704*sqrt(pi)*sqrt(rho))) + 0.000969022771154437*log(rho**(1/6)*(0.20996*pi**(1/6)*rho**(1/6) + 2**(2/3)*3**(1/6))**2/(2*6**(1/3)*pi**(1/6)*rho**(1/6) + 7.45488*2**(2/3)*3**(1/6)*pi**(1/3)*rho**(1/3) + 51.7408*sqrt(pi)*sqrt(rho))) + 0.038783294878113*atan(6.15199081975908*pi**(1/6)*rho**(1/6)/(3.72744*pi**(1/6)*rho**(1/6) + 2**(2/3)*3**(1/6))) + 0.00534328712852574*log(pi) + 0.0103635666666667*log(6)"
      ]
     },
     "execution_count": 29,
     "metadata": {},
     "output_type": "execute_result"
    }
   ],
   "source": [
    "simplify(expr1)"
   ]
  },
  {
   "cell_type": "code",
   "execution_count": 48,
   "metadata": {},
   "outputs": [
    {
     "data": {
      "text/latex": [
       "$\\displaystyle 0.0103635666666667 \\cdot 6^{\\frac{2}{3}} \\sqrt[3]{\\pi} \\sqrt[3]{\\rho} \\left(\\frac{\\sqrt[3]{6} \\left(\\frac{\\sqrt[3]{6}}{6 \\sqrt[3]{\\pi} \\rho^{\\frac{4}{3}}} + \\frac{0.31062 \\cdot 2^{\\frac{2}{3}} \\sqrt[6]{3}}{\\sqrt[6]{\\pi} \\rho^{\\frac{7}{6}}}\\right)}{2 \\sqrt[3]{\\pi} \\sqrt[3]{\\rho} \\left(12.9352 + \\frac{\\sqrt[3]{6}}{2 \\sqrt[3]{\\pi} \\sqrt[3]{\\rho}} + \\frac{1.86372 \\cdot 2^{\\frac{2}{3}} \\sqrt[6]{3}}{\\sqrt[6]{\\pi} \\sqrt[6]{\\rho}}\\right)^{2}} - \\frac{\\sqrt[3]{6}}{6 \\sqrt[3]{\\pi} \\rho^{\\frac{4}{3}} \\left(12.9352 + \\frac{\\sqrt[3]{6}}{2 \\sqrt[3]{\\pi} \\sqrt[3]{\\rho}} + \\frac{1.86372 \\cdot 2^{\\frac{2}{3}} \\sqrt[6]{3}}{\\sqrt[6]{\\pi} \\sqrt[6]{\\rho}}\\right)}\\right) \\left(12.9352 + \\frac{\\sqrt[3]{6}}{2 \\sqrt[3]{\\pi} \\sqrt[3]{\\rho}} + \\frac{1.86372 \\cdot 2^{\\frac{2}{3}} \\sqrt[6]{3}}{\\sqrt[6]{\\pi} \\sqrt[6]{\\rho}}\\right) + \\frac{0.000969022771154437 \\left(\\frac{\\left(0.10498 + \\frac{2^{\\frac{2}{3}} \\sqrt[6]{3}}{2 \\sqrt[6]{\\pi} \\sqrt[6]{\\rho}}\\right)^{2} \\left(\\frac{\\sqrt[3]{6}}{6 \\sqrt[3]{\\pi} \\rho^{\\frac{4}{3}}} + \\frac{0.31062 \\cdot 2^{\\frac{2}{3}} \\sqrt[6]{3}}{\\sqrt[6]{\\pi} \\rho^{\\frac{7}{6}}}\\right)}{\\left(12.9352 + \\frac{\\sqrt[3]{6}}{2 \\sqrt[3]{\\pi} \\sqrt[3]{\\rho}} + \\frac{1.86372 \\cdot 2^{\\frac{2}{3}} \\sqrt[6]{3}}{\\sqrt[6]{\\pi} \\sqrt[6]{\\rho}}\\right)^{2}} - \\frac{2^{\\frac{2}{3}} \\sqrt[6]{3} \\left(0.10498 + \\frac{2^{\\frac{2}{3}} \\sqrt[6]{3}}{2 \\sqrt[6]{\\pi} \\sqrt[6]{\\rho}}\\right)}{6 \\sqrt[6]{\\pi} \\rho^{\\frac{7}{6}} \\left(12.9352 + \\frac{\\sqrt[3]{6}}{2 \\sqrt[3]{\\pi} \\sqrt[3]{\\rho}} + \\frac{1.86372 \\cdot 2^{\\frac{2}{3}} \\sqrt[6]{3}}{\\sqrt[6]{\\pi} \\sqrt[6]{\\rho}}\\right)}\\right) \\left(12.9352 + \\frac{\\sqrt[3]{6}}{2 \\sqrt[3]{\\pi} \\sqrt[3]{\\rho}} + \\frac{1.86372 \\cdot 2^{\\frac{2}{3}} \\sqrt[6]{3}}{\\sqrt[6]{\\pi} \\sqrt[6]{\\rho}}\\right)}{\\left(0.10498 + \\frac{2^{\\frac{2}{3}} \\sqrt[6]{3}}{2 \\sqrt[6]{\\pi} \\sqrt[6]{\\rho}}\\right)^{2}} + \\frac{0.0397657456750268 \\cdot 2^{\\frac{2}{3}} \\sqrt[6]{3}}{\\sqrt[6]{\\pi} \\rho^{\\frac{7}{6}} \\left(1 + \\frac{37.8469910464}{\\left(3.72744 + \\frac{2^{\\frac{2}{3}} \\sqrt[6]{3}}{\\sqrt[6]{\\pi} \\sqrt[6]{\\rho}}\\right)^{2}}\\right) \\left(3.72744 + \\frac{2^{\\frac{2}{3}} \\sqrt[6]{3}}{\\sqrt[6]{\\pi} \\sqrt[6]{\\rho}}\\right)^{2}}$"
      ],
      "text/plain": [
       "0.0103635666666667*6**(2/3)*pi**(1/3)*rho**(1/3)*(6**(1/3)*(6**(1/3)/(6*pi**(1/3)*rho**(4/3)) + 0.31062*2**(2/3)*3**(1/6)/(pi**(1/6)*rho**(7/6)))/(2*pi**(1/3)*rho**(1/3)*(12.9352 + 6**(1/3)/(2*pi**(1/3)*rho**(1/3)) + 1.86372*2**(2/3)*3**(1/6)/(pi**(1/6)*rho**(1/6)))**2) - 6**(1/3)/(6*pi**(1/3)*rho**(4/3)*(12.9352 + 6**(1/3)/(2*pi**(1/3)*rho**(1/3)) + 1.86372*2**(2/3)*3**(1/6)/(pi**(1/6)*rho**(1/6)))))*(12.9352 + 6**(1/3)/(2*pi**(1/3)*rho**(1/3)) + 1.86372*2**(2/3)*3**(1/6)/(pi**(1/6)*rho**(1/6))) + 0.000969022771154437*((0.10498 + 2**(2/3)*3**(1/6)/(2*pi**(1/6)*rho**(1/6)))**2*(6**(1/3)/(6*pi**(1/3)*rho**(4/3)) + 0.31062*2**(2/3)*3**(1/6)/(pi**(1/6)*rho**(7/6)))/(12.9352 + 6**(1/3)/(2*pi**(1/3)*rho**(1/3)) + 1.86372*2**(2/3)*3**(1/6)/(pi**(1/6)*rho**(1/6)))**2 - 2**(2/3)*3**(1/6)*(0.10498 + 2**(2/3)*3**(1/6)/(2*pi**(1/6)*rho**(1/6)))/(6*pi**(1/6)*rho**(7/6)*(12.9352 + 6**(1/3)/(2*pi**(1/3)*rho**(1/3)) + 1.86372*2**(2/3)*3**(1/6)/(pi**(1/6)*rho**(1/6)))))*(12.9352 + 6**(1/3)/(2*pi**(1/3)*rho**(1/3)) + 1.86372*2**(2/3)*3**(1/6)/(pi**(1/6)*rho**(1/6)))/(0.10498 + 2**(2/3)*3**(1/6)/(2*pi**(1/6)*rho**(1/6)))**2 + 0.0397657456750268*2**(2/3)*3**(1/6)/(pi**(1/6)*rho**(7/6)*(1 + 37.8469910464/(3.72744 + 2**(2/3)*3**(1/6)/(pi**(1/6)*rho**(1/6)))**2)*(3.72744 + 2**(2/3)*3**(1/6)/(pi**(1/6)*rho**(1/6)))**2)"
      ]
     },
     "execution_count": 48,
     "metadata": {},
     "output_type": "execute_result"
    }
   ],
   "source": [
    "d_eps_c_dρ = diff(expr1, ρ)\n",
    "d_eps_c_dρ"
   ]
  },
  {
   "cell_type": "markdown",
   "metadata": {},
   "source": [
    "# Using chain rule"
   ]
  },
  {
   "cell_type": "code",
   "execution_count": 35,
   "metadata": {},
   "outputs": [
    {
     "data": {
      "text/latex": [
       "$\\displaystyle \\frac{2^{\\frac{2}{3}} \\sqrt[6]{3}}{2 \\sqrt[6]{\\pi} \\sqrt[6]{\\rho}}$"
      ],
      "text/plain": [
       "2**(2/3)*3**(1/6)/(2*pi**(1/6)*rho**(1/6))"
      ]
     },
     "execution_count": 35,
     "metadata": {},
     "output_type": "execute_result"
    }
   ],
   "source": [
    "trans1 = x.subs(dict_subs_rs).subs(dict_subs_rho)\n",
    "trans1"
   ]
  },
  {
   "cell_type": "code",
   "execution_count": 37,
   "metadata": {},
   "outputs": [
    {
     "data": {
      "text/latex": [
       "$\\displaystyle - \\frac{2^{\\frac{2}{3}} \\sqrt[6]{3}}{12 \\sqrt[6]{\\pi} \\rho^{\\frac{7}{6}}}$"
      ],
      "text/plain": [
       "-2**(2/3)*3**(1/6)/(12*pi**(1/6)*rho**(7/6))"
      ]
     },
     "execution_count": 37,
     "metadata": {},
     "output_type": "execute_result"
    }
   ],
   "source": [
    "factor1 = diff(trans1,ρ)\n",
    "factor1"
   ]
  },
  {
   "cell_type": "code",
   "execution_count": 38,
   "metadata": {},
   "outputs": [
    {
     "data": {
      "text/latex": [
       "$\\displaystyle \\sqrt{r_{s}}$"
      ],
      "text/plain": [
       "sqrt(r_s)"
      ]
     },
     "execution_count": 38,
     "metadata": {},
     "output_type": "execute_result"
    }
   ],
   "source": [
    "trans2 = x.subs(dict_subs_rs)\n",
    "trans2"
   ]
  },
  {
   "cell_type": "code",
   "execution_count": 40,
   "metadata": {},
   "outputs": [
    {
     "data": {
      "text/latex": [
       "$\\displaystyle \\frac{1}{2 \\sqrt{r_{s}}}$"
      ],
      "text/plain": [
       "1/(2*sqrt(r_s))"
      ]
     },
     "execution_count": 40,
     "metadata": {},
     "output_type": "execute_result"
    }
   ],
   "source": [
    "factor2 = diff(trans2,r_s)\n",
    "factor2"
   ]
  },
  {
   "cell_type": "code",
   "execution_count": 42,
   "metadata": {},
   "outputs": [
    {
     "data": {
      "text/latex": [
       "$\\displaystyle \\frac{\\sqrt[3]{6}}{2 \\sqrt[3]{\\pi} \\sqrt[3]{\\rho}}$"
      ],
      "text/plain": [
       "6**(1/3)/(2*pi**(1/3)*rho**(1/3))"
      ]
     },
     "execution_count": 42,
     "metadata": {},
     "output_type": "execute_result"
    }
   ],
   "source": [
    "trans3 = r_s.subs(dict_subs_rho)\n",
    "trans3"
   ]
  },
  {
   "cell_type": "code",
   "execution_count": 43,
   "metadata": {},
   "outputs": [
    {
     "data": {
      "text/latex": [
       "$\\displaystyle - \\frac{\\sqrt[3]{6}}{6 \\sqrt[3]{\\pi} \\rho^{\\frac{4}{3}}}$"
      ],
      "text/plain": [
       "-6**(1/3)/(6*pi**(1/3)*rho**(4/3))"
      ]
     },
     "execution_count": 43,
     "metadata": {},
     "output_type": "execute_result"
    }
   ],
   "source": [
    "factor3 = diff(trans3,ρ)\n",
    "factor3"
   ]
  },
  {
   "cell_type": "code",
   "execution_count": 44,
   "metadata": {},
   "outputs": [
    {
     "data": {
      "text/latex": [
       "$\\displaystyle - \\frac{2^{\\frac{2}{3}} \\sqrt[6]{3}}{12 \\sqrt[6]{\\pi} \\rho^{\\frac{7}{6}}} + \\frac{\\sqrt[3]{6}}{12 \\sqrt[3]{\\pi} \\sqrt{r_{s}} \\rho^{\\frac{4}{3}}}$"
      ],
      "text/plain": [
       "-2**(2/3)*3**(1/6)/(12*pi**(1/6)*rho**(7/6)) + 6**(1/3)/(12*pi**(1/3)*sqrt(r_s)*rho**(4/3))"
      ]
     },
     "execution_count": 44,
     "metadata": {},
     "output_type": "execute_result"
    }
   ],
   "source": [
    "factor1 - factor2*factor3"
   ]
  },
  {
   "cell_type": "code",
   "execution_count": 45,
   "metadata": {},
   "outputs": [
    {
     "data": {
      "text/latex": [
       "$\\displaystyle A \\left(- \\frac{b x_{0} \\left(\\frac{\\left(2 b + 4 x_{0}\\right) \\operatorname{atan}{\\left(\\frac{\\sqrt{- b^{2} + 4 c}}{b + 2 x} \\right)}}{\\sqrt{- b^{2} + 4 c}} + \\log{\\left(\\frac{\\left(x - x_{0}\\right)^{2}}{b x + c + x^{2}} \\right)}\\right)}{b x_{0} + c + x_{0}^{2}} + \\frac{2 b \\operatorname{atan}{\\left(\\frac{\\sqrt{- b^{2} + 4 c}}{b + 2 x} \\right)}}{\\sqrt{- b^{2} + 4 c}} + \\log{\\left(\\frac{x^{2}}{b x + c + x^{2}} \\right)}\\right)$"
      ],
      "text/plain": [
       "A*(-b*x_0*((2*b + 4*x_0)*atan(sqrt(-b**2 + 4*c)/(b + 2*x))/sqrt(-b**2 + 4*c) + log((x - x_0)**2/(b*x + c + x**2)))/(b*x_0 + c + x_0**2) + 2*b*atan(sqrt(-b**2 + 4*c)/(b + 2*x))/sqrt(-b**2 + 4*c) + log(x**2/(b*x + c + x**2)))"
      ]
     },
     "execution_count": 45,
     "metadata": {},
     "output_type": "execute_result"
    }
   ],
   "source": [
    "eps_c.subs(dict_subs_Q)"
   ]
  },
  {
   "cell_type": "code",
   "execution_count": 65,
   "metadata": {},
   "outputs": [
    {
     "data": {
      "text/latex": [
       "$\\displaystyle - \\frac{2 A \\left(b x x_{0} - c x + c x_{0}\\right)}{x \\left(b x^{2} - b x x_{0} + c x - c x_{0} + x^{3} - x^{2} x_{0}\\right)}$"
      ],
      "text/plain": [
       "-2*A*(b*x*x_0 - c*x + c*x_0)/(x*(b*x**2 - b*x*x_0 + c*x - c*x_0 + x**3 - x**2*x_0))"
      ]
     },
     "execution_count": 65,
     "metadata": {},
     "output_type": "execute_result"
    }
   ],
   "source": [
    "d_eps_c_dx = simplify( diff( eps_c.subs(dict_subs_Q), x ) )\n",
    "d_eps_c_dx"
   ]
  },
  {
   "cell_type": "code",
   "execution_count": 68,
   "metadata": {},
   "outputs": [
    {
     "data": {
      "text/latex": [
       "$\\displaystyle \\frac{A \\left(b^{2} r_{s}^{3} x_{0} + 2 b c r_{s}^{\\frac{5}{2}} x_{0} - b c r_{s}^{3} + b r_{s}^{\\frac{7}{2}} x_{0} - c^{2} r_{s}^{\\frac{5}{2}} + c^{2} r_{s}^{2} x_{0} - c r_{s}^{\\frac{7}{2}} + c r_{s}^{3} x_{0}\\right)}{- b^{2} r_{s}^{\\frac{9}{2}} + b^{2} r_{s}^{4} x_{0} + 2 b c r_{s}^{\\frac{7}{2}} x_{0} - 2 b c r_{s}^{4} + 2 b r_{s}^{\\frac{9}{2}} x_{0} - 2 b r_{s}^{5} - c^{2} r_{s}^{\\frac{7}{2}} + c^{2} r_{s}^{3} x_{0} - 2 c r_{s}^{\\frac{9}{2}} + 2 c r_{s}^{4} x_{0} - r_{s}^{\\frac{11}{2}} + r_{s}^{5} x_{0}}$"
      ],
      "text/plain": [
       "A*(b**2*r_s**3*x_0 + 2*b*c*r_s**(5/2)*x_0 - b*c*r_s**3 + b*r_s**(7/2)*x_0 - c**2*r_s**(5/2) + c**2*r_s**2*x_0 - c*r_s**(7/2) + c*r_s**3*x_0)/(-b**2*r_s**(9/2) + b**2*r_s**4*x_0 + 2*b*c*r_s**(7/2)*x_0 - 2*b*c*r_s**4 + 2*b*r_s**(9/2)*x_0 - 2*b*r_s**5 - c**2*r_s**(7/2) + c**2*r_s**3*x_0 - 2*c*r_s**(9/2) + 2*c*r_s**4*x_0 - r_s**(11/2) + r_s**5*x_0)"
      ]
     },
     "execution_count": 68,
     "metadata": {},
     "output_type": "execute_result"
    }
   ],
   "source": [
    "d_eps_c_dr_s = diff( eps_c.subs(dict_subs_Q).subs(dict_subs_rs), r_s )\n",
    "#d_eps_c_dr_s\n",
    "simplify( d_eps_c_dr_s )"
   ]
  },
  {
   "cell_type": "code",
   "execution_count": 76,
   "metadata": {},
   "outputs": [
    {
     "data": {
      "text/latex": [
       "$\\displaystyle \\frac{1.0 \\left(1.13686837721616 \\cdot 10^{-13} r_{s}^{\\frac{11}{2}} + 9.09494701772928 \\cdot 10^{-13} r_{s}^{\\frac{9}{2}} - 2.27373675443232 \\cdot 10^{-13} r_{s}^{\\frac{7}{2}} - 8.88178419700125 \\cdot 10^{-16} r_{s}^{\\frac{5}{2}} + 8.88178419700125 \\cdot 10^{-16} r_{s}^{7} + 2.8421709430404 \\cdot 10^{-14} r_{s}^{6} + 4.54747350886464 \\cdot 10^{-13} r_{s}^{5} - 2.8421709430404 \\cdot 10^{-14} r_{s}^{3}\\right)}{60.8988 r_{s}^{\\frac{17}{2}} + 3315.1167750946 r_{s}^{\\frac{15}{2}} + 44983.8357161496 r_{s}^{\\frac{13}{2}} + 158914.4792417 r_{s}^{\\frac{11}{2}} + 39640.187832837 r_{s}^{\\frac{9}{2}} + 129.560402558663 r_{s}^{\\frac{7}{2}} + 4.0 r_{s}^{9} + 559.3295837488 r_{s}^{8} + 14422.1133780223 r_{s}^{7} + 103672.750244053 r_{s}^{6} + 155671.349551475 r_{s}^{5} + 3851.76882758205 r_{s}^{4}}$"
      ],
      "text/plain": [
       "1.0*(1.13686837721616e-13*r_s**(11/2) + 9.09494701772928e-13*r_s**(9/2) - 2.27373675443232e-13*r_s**(7/2) - 8.88178419700125e-16*r_s**(5/2) + 8.88178419700125e-16*r_s**7 + 2.8421709430404e-14*r_s**6 + 4.54747350886464e-13*r_s**5 - 2.8421709430404e-14*r_s**3)/(60.8988*r_s**(17/2) + 3315.1167750946*r_s**(15/2) + 44983.8357161496*r_s**(13/2) + 158914.4792417*r_s**(11/2) + 39640.187832837*r_s**(9/2) + 129.560402558663*r_s**(7/2) + 4.0*r_s**9 + 559.3295837488*r_s**8 + 14422.1133780223*r_s**7 + 103672.750244053*r_s**6 + 155671.349551475*r_s**5 + 3851.76882758205*r_s**4)"
      ]
     },
     "execution_count": 76,
     "metadata": {},
     "output_type": "execute_result"
    }
   ],
   "source": [
    "expr1 = d_eps_c_dx.subs(dict_subs_rs) * factor2 - d_eps_c_dr_s\n",
    "#expr1.subs(dict_subs_num)\n",
    "simplify( expr1.subs(dict_subs_num) )"
   ]
  },
  {
   "cell_type": "code",
   "execution_count": 74,
   "metadata": {},
   "outputs": [
    {
     "data": {
      "text/latex": [
       "$\\displaystyle -1.19262238973405 \\cdot 10^{-18}$"
      ],
      "text/plain": [
       "-1.19262238973405e-18"
      ]
     },
     "execution_count": 74,
     "metadata": {},
     "output_type": "execute_result"
    }
   ],
   "source": [
    "expr1 = d_eps_c_dx.subs(dict_subs_rs) * factor2 - d_eps_c_dr_s\n",
    "expr1.subs(dict_subs_num).subs({r_s: 1.0})"
   ]
  },
  {
   "cell_type": "code",
   "execution_count": 57,
   "metadata": {},
   "outputs": [
    {
     "data": {
      "text/latex": [
       "$\\displaystyle 0.0233925718119642$"
      ],
      "text/plain": [
       "0.0233925718119642"
      ]
     },
     "execution_count": 57,
     "metadata": {},
     "output_type": "execute_result"
    }
   ],
   "source": [
    "expr1 = d_eps_c_dr_s.subs(dict_subs_num).subs({r_s: 1.0})\n",
    "expr1"
   ]
  },
  {
   "cell_type": "code",
   "execution_count": null,
   "metadata": {},
   "outputs": [],
   "source": [
    "x = "
   ]
  },
  {
   "cell_type": "code",
   "execution_count": 60,
   "metadata": {},
   "outputs": [
    {
     "data": {
      "text/latex": [
       "$\\displaystyle 0.0467851436239284$"
      ],
      "text/plain": [
       "0.0467851436239284"
      ]
     },
     "execution_count": 60,
     "metadata": {},
     "output_type": "execute_result"
    }
   ],
   "source": [
    "expr2 = d_eps_c_dx.subs(dict_subs_num).subs({x: sqrt(1.0)})\n",
    "expr2"
   ]
  },
  {
   "cell_type": "code",
   "execution_count": 62,
   "metadata": {},
   "outputs": [
    {
     "data": {
      "text/latex": [
       "$\\displaystyle 0.0233925718119642$"
      ],
      "text/plain": [
       "0.0233925718119642"
      ]
     },
     "execution_count": 62,
     "metadata": {},
     "output_type": "execute_result"
    }
   ],
   "source": [
    "expr2*factor2.subs({r_s: 1.0})"
   ]
  },
  {
   "cell_type": "code",
   "execution_count": 79,
   "metadata": {},
   "outputs": [
    {
     "data": {
      "text/latex": [
       "$\\displaystyle - \\frac{0.0621814 \\left(- 13.3265066512 x - 1.357937296\\right)}{x \\left(x^{3} + 3.83242 x^{2} + 13.3265066512 x + 1.357937296\\right)}$"
      ],
      "text/plain": [
       "-0.0621814*(-13.3265066512*x - 1.357937296)/(x*(x**3 + 3.83242*x**2 + 13.3265066512*x + 1.357937296))"
      ]
     },
     "execution_count": 79,
     "metadata": {},
     "output_type": "execute_result"
    }
   ],
   "source": [
    "d_eps_c_dx.subs(dict_subs_num)"
   ]
  },
  {
   "cell_type": "code",
   "execution_count": 83,
   "metadata": {},
   "outputs": [
    {
     "data": {
      "text/plain": [
       "{r_s: 6**(1/3)/(2*pi**(1/3)*rho**(1/3))}"
      ]
     },
     "execution_count": 83,
     "metadata": {},
     "output_type": "execute_result"
    }
   ],
   "source": [
    "dict_subs_rho"
   ]
  },
  {
   "cell_type": "code",
   "execution_count": 85,
   "metadata": {},
   "outputs": [
    {
     "data": {
      "text/plain": [
       "{x: sqrt(r_s)}"
      ]
     },
     "execution_count": 85,
     "metadata": {},
     "output_type": "execute_result"
    }
   ],
   "source": [
    "dict_subs_rs"
   ]
  },
  {
   "cell_type": "code",
   "execution_count": 114,
   "metadata": {},
   "outputs": [
    {
     "data": {
      "text/plain": [
       "(1.4,\n",
       " 0.446951767548284*6**(1/3)/pi**(1/3),\n",
       " 0.668544514260856*6**(1/6)/pi**(1/6))"
      ]
     },
     "execution_count": 114,
     "metadata": {},
     "output_type": "execute_result"
    }
   ],
   "source": [
    "ρ_num = 1.4\n",
    "r_s_num = dict_subs_rho[r_s].subs({ρ: ρ_num})\n",
    "x_num = dict_subs_rs[x].subs({r_s: r_s_num})\n",
    "ρ_num, r_s_num, x_num"
   ]
  },
  {
   "cell_type": "code",
   "execution_count": 115,
   "metadata": {},
   "outputs": [
    {
     "data": {
      "text/latex": [
       "$\\displaystyle -0.00604300642230258$"
      ],
      "text/plain": [
       "-0.00604300642230258"
      ]
     },
     "execution_count": 115,
     "metadata": {},
     "output_type": "execute_result"
    }
   ],
   "source": [
    "d_eps_c_dρ.subs( {ρ: ρ_num} ).evalf()"
   ]
  },
  {
   "cell_type": "code",
   "execution_count": 116,
   "metadata": {},
   "outputs": [
    {
     "data": {
      "text/latex": [
       "$\\displaystyle 0.0681661003177015$"
      ],
      "text/plain": [
       "0.0681661003177015"
      ]
     },
     "execution_count": 116,
     "metadata": {},
     "output_type": "execute_result"
    }
   ],
   "source": [
    "d1 = d_eps_c_dx.subs(dict_subs_num).subs({x: x_num}).evalf()\n",
    "d1"
   ]
  },
  {
   "cell_type": "code",
   "execution_count": 117,
   "metadata": {},
   "outputs": [
    {
     "data": {
      "text/latex": [
       "$\\displaystyle 0.67143830202082$"
      ],
      "text/plain": [
       "0.671438302020820"
      ]
     },
     "execution_count": 117,
     "metadata": {},
     "output_type": "execute_result"
    }
   ],
   "source": [
    "d2 = factor2.subs({r_s: r_s_num}).evalf()\n",
    "d2"
   ]
  },
  {
   "cell_type": "code",
   "execution_count": 118,
   "metadata": {},
   "outputs": [
    {
     "data": {
      "text/latex": [
       "$\\displaystyle -0.132031784955682$"
      ],
      "text/plain": [
       "-0.132031784955682"
      ]
     },
     "execution_count": 118,
     "metadata": {},
     "output_type": "execute_result"
    }
   ],
   "source": [
    "d3 = factor3.subs({ρ: ρ_num}).evalf()\n",
    "d3"
   ]
  },
  {
   "cell_type": "code",
   "execution_count": 119,
   "metadata": {},
   "outputs": [
    {
     "data": {
      "text/latex": [
       "$\\displaystyle -0.00604300642230258$"
      ],
      "text/plain": [
       "-0.00604300642230258"
      ]
     },
     "execution_count": 119,
     "metadata": {},
     "output_type": "execute_result"
    }
   ],
   "source": [
    "d1*d2*d3"
   ]
  },
  {
   "cell_type": "markdown",
   "metadata": {},
   "source": [
    "# Codegen"
   ]
  },
  {
   "cell_type": "code",
   "execution_count": 120,
   "metadata": {},
   "outputs": [],
   "source": [
    "from sympy.utilities.codegen import codegen"
   ]
  },
  {
   "cell_type": "code",
   "execution_count": 125,
   "metadata": {},
   "outputs": [],
   "source": [
    "ret_val = codegen( (\"d_eps_xc_dx\", d_eps_c_dx), \"julia\")"
   ]
  },
  {
   "cell_type": "code",
   "execution_count": 130,
   "metadata": {},
   "outputs": [
    {
     "data": {
      "text/plain": [
       "(list, 1)"
      ]
     },
     "execution_count": 130,
     "metadata": {},
     "output_type": "execute_result"
    }
   ],
   "source": [
    "type(ret_val), len(ret_val)"
   ]
  },
  {
   "cell_type": "code",
   "execution_count": 131,
   "metadata": {},
   "outputs": [
    {
     "data": {
      "text/plain": [
       "(tuple, 2)"
      ]
     },
     "execution_count": 131,
     "metadata": {},
     "output_type": "execute_result"
    }
   ],
   "source": [
    "type(ret_val[0]), len(ret_val[0])"
   ]
  },
  {
   "cell_type": "code",
   "execution_count": 133,
   "metadata": {},
   "outputs": [
    {
     "name": "stdout",
     "output_type": "stream",
     "text": [
      "#   Code generated with sympy 1.4\n",
      "#\n",
      "#   See http://www.sympy.org/ for more information.\n",
      "#\n",
      "#   This file is part of 'project'\n",
      "\n",
      "function d_eps_xc_dx(A, b, c, x, x_0)\n",
      "\n",
      "    out1 = -2*A.*(b.*x.*x_0 - c.*x + c.*x_0)./(x.*(b.*x.^2 - b.*x.*x_0 + c.*x - c.*x_0 + x.^3 - x.^2.*x_0))\n",
      "\n",
      "    return out1\n",
      "end\n",
      "\n"
     ]
    }
   ],
   "source": [
    "print(ret_val[0][1])"
   ]
  },
  {
   "cell_type": "code",
   "execution_count": 136,
   "metadata": {},
   "outputs": [
    {
     "data": {
      "text/plain": [
       "'d_eps_xc_dx.jl'"
      ]
     },
     "execution_count": 136,
     "metadata": {},
     "output_type": "execute_result"
    }
   ],
   "source": [
    "ret_val[0][0]"
   ]
  }
 ],
 "metadata": {
  "kernelspec": {
   "display_name": "Python 3",
   "language": "python",
   "name": "python3"
  },
  "language_info": {
   "codemirror_mode": {
    "name": "ipython",
    "version": 3
   },
   "file_extension": ".py",
   "mimetype": "text/x-python",
   "name": "python",
   "nbconvert_exporter": "python",
   "pygments_lexer": "ipython3",
   "version": "3.8.3"
  }
 },
 "nbformat": 4,
 "nbformat_minor": 4
}
